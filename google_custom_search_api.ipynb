{
 "cells": [
  {
   "cell_type": "markdown",
   "metadata": {},
   "source": [
    "**to enable google custom search:**\n",
    "\n",
    "need to create project and create api key at https://console.developers.google.com\n",
    "\n",
    "need to create custom search engine at https://cse.google.com, where you can get a cse_id\n",
    "\n",
    "learn from the example in https://github.com/google/google-api-python-client/blob/master/samples/customsearch/main.py"
   ]
  },
  {
   "cell_type": "code",
   "execution_count": 1,
   "metadata": {
    "collapsed": true
   },
   "outputs": [],
   "source": [
    "from googleapiclient.discovery import build\n",
    "from google_credential import my_api_key, my_cse_id"
   ]
  },
  {
   "cell_type": "code",
   "execution_count": 65,
   "metadata": {
    "collapsed": false
   },
   "outputs": [],
   "source": [
    "def google_custom_search(query, api_key, cse_id, site, **kwargs):\n",
    "    ''' \n",
    "    this function feed api with query, keys and other parameters such as number of elments returned, and \n",
    "    get a list of items from results.\n",
    "    input:\n",
    "        site - restrict searching on a certain website\n",
    "        num - number of items returned from google\n",
    "    output:\n",
    "        list of search results in the form of dict, the url of target website is 'link'\n",
    "    '''\n",
    "    search_term = \"{query}\".format(query=query) if site is None else \"{query} site:{site}\".format(\n",
    "        query=query, site=site)\n",
    "    service = build(\"customsearch\", \"v1\", developerKey=api_key)\n",
    "    res = service.cse().list(q=search_term, cx=cse_id, **kwargs).execute()\n",
    "    \n",
    "    try:\n",
    "        result = res['items']\n",
    "        return result\n",
    "    except Exception as e:\n",
    "        print(res)\n",
    "        print(e)\n",
    "        return []"
   ]
  },
  {
   "cell_type": "code",
   "execution_count": 66,
   "metadata": {
    "collapsed": false
   },
   "outputs": [],
   "source": [
    "results = google_custom_search('\"pink floyd\"', my_api_key, my_cse_id, \"facebook.com\", num=10)"
   ]
  },
  {
   "cell_type": "code",
   "execution_count": 73,
   "metadata": {
    "collapsed": false
   },
   "outputs": [
    {
     "name": "stdout",
     "output_type": "stream",
     "text": [
      "{'displayLink': 'www.facebook.com',\n",
      " 'formattedUrl': 'https://www.facebook.com/pinkfloyd/',\n",
      " 'htmlFormattedUrl': 'https://www.facebook.com/<b>pinkfloyd</b>/',\n",
      " 'htmlSnippet': '<b>Pink Floyd</b>. 28976987 likes · 33295 talking about this. '\n",
      "                'Please remember this <br>\\n'\n",
      "                'page is open to fans of all ages and post responsibly.',\n",
      " 'htmlTitle': '<b>Pink Floyd</b> - Home | Facebook',\n",
      " 'kind': 'customsearch#result',\n",
      " 'link': 'https://www.facebook.com/pinkfloyd/',\n",
      " 'pagemap': {'cse_image': [{'src': 'https://scontent-ort2-2.xx.fbcdn.net/v/t1.0-1/c1.0.200.200/p200x200/10523941_10152373359177308_3814697568530040158_n.jpg?_nc_cat=0&oh=ded90c5a80f4f7c402019560740f2378&oe=5B749180'}],\n",
      "             'metatags': [{'al:android:app_name': 'Facebook',\n",
      "                           'al:android:package': 'com.facebook.katana',\n",
      "                           'al:android:url': 'fb://page/5660597307?referrer=app_link',\n",
      "                           'al:ios:app_name': 'Facebook',\n",
      "                           'al:ios:app_store_id': '284882215',\n",
      "                           'al:ios:url': 'fb://page/?id=5660597307',\n",
      "                           'og:description': 'Pink Floyd. 28,976,987 likes · '\n",
      "                                             '33,295 talking about this. '\n",
      "                                             'Please remember this page is '\n",
      "                                             'open to fans of all ages and '\n",
      "                                             'post responsibly.',\n",
      "                           'og:image': 'https://scontent-ort2-2.xx.fbcdn.net/v/t1.0-1/c1.0.200.200/p200x200/10523941_10152373359177308_3814697568530040158_n.jpg?_nc_cat=0&oh=ded90c5a80f4f7c402019560740f2378&oe=5B749180',\n",
      "                           'og:title': 'Pink Floyd',\n",
      "                           'og:url': 'https://www.facebook.com/pinkfloyd/',\n",
      "                           'referrer': 'default'}]},\n",
      " 'snippet': 'Pink Floyd. 28976987 likes · 33295 talking about this. Please '\n",
      "            'remember this \\n'\n",
      "            'page is open to fans of all ages and post responsibly.',\n",
      " 'title': 'Pink Floyd - Home | Facebook'}\n"
     ]
    }
   ],
   "source": [
    "if len(results) > 0:\n",
    "    from pprint import pprint\n",
    "    pprint(results[0])"
   ]
  },
  {
   "cell_type": "code",
   "execution_count": 68,
   "metadata": {
    "collapsed": false
   },
   "outputs": [],
   "source": [
    "# get urls from search results\n",
    "urls = [result['link'] for result in results]"
   ]
  },
  {
   "cell_type": "code",
   "execution_count": 71,
   "metadata": {
    "collapsed": false
   },
   "outputs": [
    {
     "name": "stdout",
     "output_type": "stream",
     "text": [
      "https://www.facebook.com/pinkfloyd/\n",
      "https://www.facebook.com/PinkFloydTMR/\n",
      "https://www.facebook.com/Pink-Floyd-Caf%C3%A9-159320404116380/\n",
      "https://www.facebook.com/breatheband/\n",
      "https://www.facebook.com/pinkfloyd/?rf=107784742577504\n",
      "https://www.facebook.com/PinkFloydLaserShow/\n",
      "https://www.facebook.com/TEXASPINKFLOYD/\n",
      "https://www.facebook.com/pinkfloydcoffeeshop/\n",
      "https://www.facebook.com/ThePinkFloydExperience/\n",
      "https://www.facebook.com/RunLikeHellTributeBand/\n"
     ]
    }
   ],
   "source": [
    "for url in urls:\n",
    "    print(url)"
   ]
  }
 ],
 "metadata": {
  "kernelspec": {
   "display_name": "Python 3",
   "language": "python",
   "name": "python3"
  },
  "language_info": {
   "codemirror_mode": {
    "name": "ipython",
    "version": 3
   },
   "file_extension": ".py",
   "mimetype": "text/x-python",
   "name": "python",
   "nbconvert_exporter": "python",
   "pygments_lexer": "ipython3",
   "version": "3.6.0"
  }
 },
 "nbformat": 4,
 "nbformat_minor": 2
}
